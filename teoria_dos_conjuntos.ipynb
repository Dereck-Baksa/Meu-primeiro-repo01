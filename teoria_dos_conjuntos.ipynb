{
  "nbformat": 4,
  "nbformat_minor": 0,
  "metadata": {
    "colab": {
      "provenance": [],
      "include_colab_link": true
    },
    "kernelspec": {
      "name": "python3",
      "display_name": "Python 3"
    },
    "language_info": {
      "name": "python"
    }
  },
  "cells": [
    {
      "cell_type": "markdown",
      "metadata": {
        "id": "view-in-github",
        "colab_type": "text"
      },
      "source": [
        "<a href=\"https://colab.research.google.com/github/Dereck-Baksa/Meu-primeiro-repo01/blob/main/teoria_dos_conjuntos.ipynb\" target=\"_parent\"><img src=\"https://colab.research.google.com/assets/colab-badge.svg\" alt=\"Open In Colab\"/></a>"
      ]
    },
    {
      "cell_type": "code",
      "execution_count": null,
      "metadata": {
        "id": "yqUIaAbZnNCg"
      },
      "outputs": [],
      "source": []
    },
    {
      "cell_type": "markdown",
      "source": [
        "criando os sets:"
      ],
      "metadata": {
        "id": "6_TB-feLnbsg"
      }
    },
    {
      "cell_type": "code",
      "source": [
        "vingadores = {\"Homem de Ferro\", \"Capitão América\", \"Hulk\", \"Thor\", \"Viúva Negra\", \"Visão\", \"Feiticeira Escarlate\", \"Gavião Arqueiro\", \"Homem Aranha\", \"Capitã Marvel\", \"Mercúrio\", \"Pantera Negra\", \"Wolverine\", \"Homem Formiga\", \"Vespa\"}"
      ],
      "metadata": {
        "id": "TpKWcCIvoJ9o"
      },
      "execution_count": null,
      "outputs": []
    },
    {
      "cell_type": "code",
      "source": [
        "team_cap = {\"Capitão América\", \"Feiticeira Escarlate\", \"Soldado Invernal\", \"Falcão\", \"Homem Formiga\", \"Gavião Arqueiro\"}"
      ],
      "metadata": {
        "id": "Lc43eHS_pRu4"
      },
      "execution_count": null,
      "outputs": []
    },
    {
      "cell_type": "markdown",
      "source": [
        "## realizando união U"
      ],
      "metadata": {
        "id": "c9VuR1MLpwZ0"
      }
    },
    {
      "cell_type": "code",
      "source": [
        "uniao = vingadores | team_cap\n",
        "uniao"
      ],
      "metadata": {
        "colab": {
          "base_uri": "https://localhost:8080/"
        },
        "id": "Rwm9JUpZpvAE",
        "outputId": "68de86a1-9400-4302-9877-a6503fbba636"
      },
      "execution_count": null,
      "outputs": [
        {
          "output_type": "execute_result",
          "data": {
            "text/plain": [
              "{'Capitã Marvel',\n",
              " 'Capitão América',\n",
              " 'Falcão',\n",
              " 'Feiticeira Escarlate',\n",
              " 'Gavião Arqueiro',\n",
              " 'Homem Aranha',\n",
              " 'Homem Formiga',\n",
              " 'Homem de Ferro',\n",
              " 'Hulk',\n",
              " 'Mercúrio',\n",
              " 'Pantera Negra',\n",
              " 'Soldado Invernal',\n",
              " 'Thor',\n",
              " 'Vespa',\n",
              " 'Visão',\n",
              " 'Viúva Negra',\n",
              " 'Wolverine'}"
            ]
          },
          "metadata": {},
          "execution_count": 3
        }
      ]
    },
    {
      "cell_type": "code",
      "source": [
        "uniao_02 = vingadores.union(team_cap)\n",
        "uniao_02"
      ],
      "metadata": {
        "colab": {
          "base_uri": "https://localhost:8080/"
        },
        "id": "kNo-O3pyqWVi",
        "outputId": "bd1df444-0019-4ea4-8f88-e4041da7548c"
      },
      "execution_count": null,
      "outputs": [
        {
          "output_type": "execute_result",
          "data": {
            "text/plain": [
              "{'Capitã Marvel',\n",
              " 'Capitão América',\n",
              " 'Falcão',\n",
              " 'Feiticeira Escarlate',\n",
              " 'Gavião Arqueiro',\n",
              " 'Homem Aranha',\n",
              " 'Homem Formiga',\n",
              " 'Homem de Ferro',\n",
              " 'Hulk',\n",
              " 'Mercúrio',\n",
              " 'Pantera Negra',\n",
              " 'Soldado Invernal',\n",
              " 'Thor',\n",
              " 'Vespa',\n",
              " 'Visão',\n",
              " 'Viúva Negra',\n",
              " 'Wolverine'}"
            ]
          },
          "metadata": {},
          "execution_count": 4
        }
      ]
    },
    {
      "cell_type": "markdown",
      "source": [
        "## realizando intersecção"
      ],
      "metadata": {
        "id": "wBXN90gRqlWg"
      }
    },
    {
      "cell_type": "code",
      "source": [
        "interseccao = vingadores & team_cap\n",
        "interseccao"
      ],
      "metadata": {
        "colab": {
          "base_uri": "https://localhost:8080/"
        },
        "id": "IqF-d_ihqprz",
        "outputId": "ba5aa2dc-3264-4e00-a1fc-8dbf2b475e6e"
      },
      "execution_count": null,
      "outputs": [
        {
          "output_type": "execute_result",
          "data": {
            "text/plain": [
              "{'Capitão América', 'Feiticeira Escarlate', 'Gavião Arqueiro', 'Homem Formiga'}"
            ]
          },
          "metadata": {},
          "execution_count": 5
        }
      ]
    },
    {
      "cell_type": "code",
      "source": [
        "interseccao_02 = vingadores.intersection(team_cap)\n",
        "interseccao_02"
      ],
      "metadata": {
        "colab": {
          "base_uri": "https://localhost:8080/"
        },
        "id": "MeuXlqwYq2rm",
        "outputId": "bb5882cc-fdfc-4aaa-89ac-333a0485b129"
      },
      "execution_count": null,
      "outputs": [
        {
          "output_type": "execute_result",
          "data": {
            "text/plain": [
              "{'Capitão América', 'Feiticeira Escarlate', 'Gavião Arqueiro', 'Homem Formiga'}"
            ]
          },
          "metadata": {},
          "execution_count": 6
        }
      ]
    },
    {
      "cell_type": "markdown",
      "source": [
        "## realizando pertinência"
      ],
      "metadata": {
        "id": "duHgCiL5rG9p"
      }
    },
    {
      "cell_type": "markdown",
      "source": [
        "pertinência (not in)"
      ],
      "metadata": {
        "id": "pSlN3ziD0r8V"
      }
    },
    {
      "cell_type": "code",
      "source": [
        "\"Hulk\" in vingadores"
      ],
      "metadata": {
        "colab": {
          "base_uri": "https://localhost:8080/"
        },
        "id": "EXeRnCWlq8s_",
        "outputId": "978a7d53-6bd5-45e1-a409-c1ffc13be059"
      },
      "execution_count": null,
      "outputs": [
        {
          "output_type": "execute_result",
          "data": {
            "text/plain": [
              "True"
            ]
          },
          "metadata": {},
          "execution_count": 7
        }
      ]
    },
    {
      "cell_type": "code",
      "source": [
        "\"Homem Aranha\" in team_cap"
      ],
      "metadata": {
        "colab": {
          "base_uri": "https://localhost:8080/"
        },
        "id": "1R8J6f1OrRpz",
        "outputId": "4c084d78-4e5a-4df2-e301-cda82e682500"
      },
      "execution_count": null,
      "outputs": [
        {
          "output_type": "execute_result",
          "data": {
            "text/plain": [
              "False"
            ]
          },
          "metadata": {},
          "execution_count": 8
        }
      ]
    },
    {
      "cell_type": "markdown",
      "source": [
        "pertinência (not in)"
      ],
      "metadata": {
        "id": "hpzpwvUWrbTY"
      }
    },
    {
      "cell_type": "code",
      "source": [
        "\"Soldado Invernal\" not in vingadores"
      ],
      "metadata": {
        "colab": {
          "base_uri": "https://localhost:8080/"
        },
        "id": "_x1r8YAdrccd",
        "outputId": "2193fbbe-9f8f-4777-e0c9-5b692e7b3d66"
      },
      "execution_count": null,
      "outputs": [
        {
          "output_type": "execute_result",
          "data": {
            "text/plain": [
              "True"
            ]
          },
          "metadata": {},
          "execution_count": 9
        }
      ]
    },
    {
      "cell_type": "code",
      "source": [
        "\"Soldado Invernal\" not in team_cap"
      ],
      "metadata": {
        "colab": {
          "base_uri": "https://localhost:8080/"
        },
        "id": "kIY4JOgQrj3i",
        "outputId": "002f520b-0366-41ac-dc50-18cc102270bd"
      },
      "execution_count": null,
      "outputs": [
        {
          "output_type": "execute_result",
          "data": {
            "text/plain": [
              "False"
            ]
          },
          "metadata": {},
          "execution_count": 10
        }
      ]
    },
    {
      "cell_type": "markdown",
      "source": [
        "realizando pertinência com subconjuntos e superconjuntos! para isso, vou criar mais um set"
      ],
      "metadata": {
        "id": "dww1tiyJyB6f"
      }
    },
    {
      "cell_type": "code",
      "source": [
        "team_iron = {\"Homem de Ferro\", \"Visão\", \"Homem Aranha\", \"Pantera Negra\", \"Viúva Negra\"}"
      ],
      "metadata": {
        "id": "36iBLCkmyR4P"
      },
      "execution_count": null,
      "outputs": []
    },
    {
      "cell_type": "markdown",
      "source": [
        "verificando se o team Iron Man está contido em Vingadores"
      ],
      "metadata": {
        "id": "5Sh8VlAJzGpi"
      }
    },
    {
      "cell_type": "code",
      "source": [
        "team_iron.issubset(vingadores)"
      ],
      "metadata": {
        "colab": {
          "base_uri": "https://localhost:8080/"
        },
        "id": "LjWmn5ABypJX",
        "outputId": "4ef21c2e-6692-4b13-947a-b6840eaa6977"
      },
      "execution_count": null,
      "outputs": [
        {
          "output_type": "execute_result",
          "data": {
            "text/plain": [
              "True"
            ]
          },
          "metadata": {},
          "execution_count": 12
        }
      ]
    },
    {
      "cell_type": "markdown",
      "source": [
        "verificando se Vingadores contém team Iron Man"
      ],
      "metadata": {
        "id": "J4sNegFnzU1S"
      }
    },
    {
      "cell_type": "code",
      "source": [
        "vingadores.issuperset(team_iron)"
      ],
      "metadata": {
        "colab": {
          "base_uri": "https://localhost:8080/"
        },
        "id": "fXMY0XPDy4g9",
        "outputId": "6ea4b42b-e449-460c-cd25-6aa2376fc34d"
      },
      "execution_count": null,
      "outputs": [
        {
          "output_type": "execute_result",
          "data": {
            "text/plain": [
              "True"
            ]
          },
          "metadata": {},
          "execution_count": 13
        }
      ]
    },
    {
      "cell_type": "markdown",
      "source": [
        "## igualdade e diferença"
      ],
      "metadata": {
        "id": "Q9IltkQi093o"
      }
    },
    {
      "cell_type": "markdown",
      "source": [
        "verificando se os sets são iguais:"
      ],
      "metadata": {
        "id": "v9rJp8z9zkoK"
      }
    },
    {
      "cell_type": "code",
      "source": [
        "team_cap == team_iron"
      ],
      "metadata": {
        "colab": {
          "base_uri": "https://localhost:8080/"
        },
        "id": "MIKPOx0czqWf",
        "outputId": "99e2c33d-ee52-4954-cbb3-c94474335dac"
      },
      "execution_count": null,
      "outputs": [
        {
          "output_type": "execute_result",
          "data": {
            "text/plain": [
              "False"
            ]
          },
          "metadata": {},
          "execution_count": 14
        }
      ]
    },
    {
      "cell_type": "markdown",
      "source": [
        "verificando se os sets são diferentes:"
      ],
      "metadata": {
        "id": "G5wJwS26zv5a"
      }
    },
    {
      "cell_type": "code",
      "source": [
        "team_cap != team_iron"
      ],
      "metadata": {
        "colab": {
          "base_uri": "https://localhost:8080/"
        },
        "id": "UvuFAxWGzysw",
        "outputId": "b19286cd-d048-4d87-8557-77e433ce063f"
      },
      "execution_count": null,
      "outputs": [
        {
          "output_type": "execute_result",
          "data": {
            "text/plain": [
              "True"
            ]
          },
          "metadata": {},
          "execution_count": 15
        }
      ]
    },
    {
      "cell_type": "markdown",
      "source": [
        "diferença simétrica"
      ],
      "metadata": {
        "id": "J3SzEqkH2eKe"
      }
    },
    {
      "cell_type": "code",
      "source": [
        "team_iron ^ team_cap"
      ],
      "metadata": {
        "colab": {
          "base_uri": "https://localhost:8080/"
        },
        "id": "TZ0pcbiU2hbE",
        "outputId": "046ce5d2-ea29-4884-b905-e7b55767908e"
      },
      "execution_count": null,
      "outputs": [
        {
          "output_type": "execute_result",
          "data": {
            "text/plain": [
              "{'Capitão América',\n",
              " 'Falcão',\n",
              " 'Feiticeira Escarlate',\n",
              " 'Gavião Arqueiro',\n",
              " 'Homem Aranha',\n",
              " 'Homem Formiga',\n",
              " 'Homem de Ferro',\n",
              " 'Pantera Negra',\n",
              " 'Soldado Invernal',\n",
              " 'Visão',\n",
              " 'Viúva Negra'}"
            ]
          },
          "metadata": {},
          "execution_count": 16
        }
      ]
    },
    {
      "cell_type": "code",
      "source": [
        "team_cap.symmetric_difference(team_iron)"
      ],
      "metadata": {
        "colab": {
          "base_uri": "https://localhost:8080/"
        },
        "id": "t2TjqPYM2231",
        "outputId": "44ba8e24-c9c8-4dff-ed99-4b6c2053bd01"
      },
      "execution_count": null,
      "outputs": [
        {
          "output_type": "execute_result",
          "data": {
            "text/plain": [
              "{'Capitão América',\n",
              " 'Falcão',\n",
              " 'Feiticeira Escarlate',\n",
              " 'Gavião Arqueiro',\n",
              " 'Homem Aranha',\n",
              " 'Homem Formiga',\n",
              " 'Homem de Ferro',\n",
              " 'Pantera Negra',\n",
              " 'Soldado Invernal',\n",
              " 'Visão',\n",
              " 'Viúva Negra'}"
            ]
          },
          "metadata": {},
          "execution_count": 17
        }
      ]
    },
    {
      "cell_type": "markdown",
      "source": [
        "## adicionando ou removendo elementos"
      ],
      "metadata": {
        "id": "eHgfdyQZ2-hw"
      }
    },
    {
      "cell_type": "markdown",
      "source": [
        "removendo a Viúva Negra do team Iron Man"
      ],
      "metadata": {
        "id": "lNKxQs7f3b2G"
      }
    },
    {
      "cell_type": "code",
      "source": [
        "team_iron.remove(\"Viúva Negra\")\n",
        "team_iron"
      ],
      "metadata": {
        "colab": {
          "base_uri": "https://localhost:8080/"
        },
        "id": "ya00dCuT3aP-",
        "outputId": "91829f8e-6129-4482-a5c0-3a103bec88d1"
      },
      "execution_count": null,
      "outputs": [
        {
          "output_type": "execute_result",
          "data": {
            "text/plain": [
              "{'Homem Aranha', 'Homem de Ferro', 'Pantera Negra', 'Visão'}"
            ]
          },
          "metadata": {},
          "execution_count": 18
        }
      ]
    },
    {
      "cell_type": "markdown",
      "source": [
        "adicionando a Viúva Negra no team Captain America"
      ],
      "metadata": {
        "id": "uBtAYQn539Ov"
      }
    },
    {
      "cell_type": "code",
      "source": [
        "team_cap.add(\"Viúva Negra\")\n",
        "team_cap"
      ],
      "metadata": {
        "colab": {
          "base_uri": "https://localhost:8080/"
        },
        "id": "KNEmYL7d4A7Q",
        "outputId": "da5beabe-4fc2-4b6a-9372-90adc025d0c8"
      },
      "execution_count": null,
      "outputs": [
        {
          "output_type": "execute_result",
          "data": {
            "text/plain": [
              "{'Capitão América',\n",
              " 'Falcão',\n",
              " 'Feiticeira Escarlate',\n",
              " 'Gavião Arqueiro',\n",
              " 'Homem Formiga',\n",
              " 'Soldado Invernal',\n",
              " 'Viúva Negra'}"
            ]
          },
          "metadata": {},
          "execution_count": 19
        }
      ]
    },
    {
      "cell_type": "markdown",
      "source": [
        "## compreensão de conjuntos"
      ],
      "metadata": {
        "id": "83A2dJ1_4rEo"
      }
    },
    {
      "cell_type": "code",
      "source": [
        "vingadores_array = [\"Viúva Negra\", \"Homem de Ferro\", \"Capitão América\", \"Hulk\", \"Thor\", \"Feiticeira Escarlate\", \"Visão\", \"Gavião Arqueiro\", \"Viúva Negra\", \"Hulk\"]\n",
        "vingadores_ucm = {item for item in vingadores_array}\n",
        "vingadores_ucm\n"
      ],
      "metadata": {
        "colab": {
          "base_uri": "https://localhost:8080/"
        },
        "id": "NeVSGaZb5lR4",
        "outputId": "036f28e2-445d-44b7-87e6-4c9417f43549"
      },
      "execution_count": null,
      "outputs": [
        {
          "output_type": "execute_result",
          "data": {
            "text/plain": [
              "{'Capitão América',\n",
              " 'Feiticeira Escarlate',\n",
              " 'Gavião Arqueiro',\n",
              " 'Homem de Ferro',\n",
              " 'Hulk',\n",
              " 'Thor',\n",
              " 'Visão',\n",
              " 'Viúva Negra'}"
            ]
          },
          "metadata": {},
          "execution_count": 20
        }
      ]
    }
  ]
}